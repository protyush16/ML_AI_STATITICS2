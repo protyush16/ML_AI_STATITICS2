{
 "cells": [
  {
   "cell_type": "markdown",
   "metadata": {},
   "source": [
    "## STAT ASSIGNMENT 2"
   ]
  },
  {
   "cell_type": "markdown",
   "metadata": {},
   "source": [
    "A test is conducted which is consisting of 20 MCQs (multiple choices questions) with every\n",
    "MCQ having its four options out of which only one is correct. Determine the probability that\n",
    "a person undertaking that test has answered exactly 5 questions wrong."
   ]
  },
  {
   "cell_type": "code",
   "execution_count": 17,
   "metadata": {},
   "outputs": [
    {
     "name": "stdout",
     "output_type": "stream",
     "text": [
      "3.4264958230778575e-06\n"
     ]
    }
   ],
   "source": [
    "import math\n",
    "import scipy\n",
    "\n",
    "n = 20  #Total no of questions\n",
    "p = 1/4   #probaility of getting one correct answer ( since one option is correct out of 4 options )\n",
    "q = 3/4   #probaility of getting one wrong answer ( since three  options are incorrect out of 4 options )\n",
    "\n",
    "k = 5  # no of questions answered incorrectly\n",
    "\n",
    "\n",
    "\n",
    "m = scipy.special.comb(n,k)\n",
    "z = m*p**(n-k)*q**(k)  #the probability that a person undertaking that test has answered exactly 5 questions wrong.\n",
    "print(z)"
   ]
  },
  {
   "cell_type": "markdown",
   "metadata": {},
   "source": [
    "A die marked A to E is rolled 50 times. Find the probability of getting a “D” exactly\n",
    "5 times."
   ]
  },
  {
   "cell_type": "code",
   "execution_count": 18,
   "metadata": {},
   "outputs": [
    {
     "name": "stdout",
     "output_type": "stream",
     "text": [
      "8.191610005823282e-30\n"
     ]
    }
   ],
   "source": [
    "n = 50  #Total no of qexperiments\n",
    "p = 1/6   #probaility of getting D \n",
    "q = 5/6   #probaility of NOT GETTING D\n",
    "\n",
    "k = 5  # TOtal no of Ds\n",
    "\n",
    "m = scipy.special.comb(n,k)\n",
    "z = m*p**(n-k)*q**(k)  #the probability of getting a “D” exactly 5 times.\n",
    "print(z)"
   ]
  },
  {
   "cell_type": "markdown",
   "metadata": {},
   "source": [
    "Problem Statement 3:\n",
    "Two balls are drawn at random in succession without replacement from an urn\n",
    "containing 4 red balls and 6 black balls.\n",
    "Find the probabilities of all the possible outcomes."
   ]
  },
  {
   "cell_type": "code",
   "execution_count": 24,
   "metadata": {},
   "outputs": [
    {
     "name": "stdout",
     "output_type": "stream",
     "text": [
      "The probability of 0 blue balls (RR)is :\n",
      "0.13333333333333333\n",
      "The probability of 1 blue ball is (RB or BR) is : \n",
      "0.5333333333333333\n",
      "The probability of 2 blue balls (BB) is : \n",
      "0.3333333333333333\n"
     ]
    }
   ],
   "source": [
    "#events  Probability\n",
    "RR  = (4/10)*(3/9)\n",
    "RB  =(4/10)*(6/9) \n",
    "BR  =(6/10)*(4/9)  \n",
    "BB   =(6/10)*(5/9) \n",
    "\n",
    "print(\"The probability of 0 blue balls (RR)is :\")\n",
    "print(RR)\n",
    "print(\"The probability of 1 blue ball is (RB or BR) is : \")\n",
    "print(RB+BR)\n",
    "print(\"The probability of 2 blue balls (BB) is : \")\n",
    "print(BB)\n"
   ]
  },
  {
   "cell_type": "code",
   "execution_count": null,
   "metadata": {},
   "outputs": [],
   "source": []
  }
 ],
 "metadata": {
  "kernelspec": {
   "display_name": "Python 3",
   "language": "python",
   "name": "python3"
  },
  "language_info": {
   "codemirror_mode": {
    "name": "ipython",
    "version": 3
   },
   "file_extension": ".py",
   "mimetype": "text/x-python",
   "name": "python",
   "nbconvert_exporter": "python",
   "pygments_lexer": "ipython3",
   "version": "3.7.6"
  }
 },
 "nbformat": 4,
 "nbformat_minor": 4
}
